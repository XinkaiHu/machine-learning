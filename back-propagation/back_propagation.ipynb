{
 "cells": [
  {
   "cell_type": "markdown",
   "id": "3781603f-a1a3-4f8a-840e-a576fd5f0f41",
   "metadata": {},
   "source": [
    "# Backpropagation\n",
    "\n",
    "## 文件结构\n",
    "\n",
    "```\n",
    "backpropagation\n",
    "├── dataset\n",
    "│   ├── iris.txt\n",
    "│   └── cancer.txt\n",
    "├── parameters\n",
    "│   ├── iris_hidden_parameters.txt\n",
    "│   ├── iris_output_parameters.txt\n",
    "│   ├── cancer_hidden_parameters.txt\n",
    "│   └── cancer_output_parameters.txt\n",
    "├── back_propagation.ipynb\n",
    "└── back_propagation.py\n",
    "```\n",
    "\n",
    "## 符号约定\n",
    "\n",
    "- `m`: sample number\n",
    "- `d`: input feature\n",
    "- `q`: hidden feature\n",
    "- `l`: output feature\n",
    "- `X`: samples, shape(m, d)\n",
    "- `Y`: labels, shape(m, l)\n",
    "- `hidden_weights`: weights of hidden layer nodes, shape(q, d)\n",
    "- `hidden_bias`: bias of hidden layer nodes, shape(q, 1)\n",
    "- `output_weights`: weights of output layer nodes, shape(l, q)\n",
    "- `output_bias`: bias of output layer nodes, shape(l, 1)\n",
    "\n",
    "## Backpropagation 算法及模型介绍\n",
    "\n",
    "Backpropagation 算法（BP 算法）用于在多层神经网络中求解参数的梯度，并将梯度用于梯度下降算法，从而优化模型的损失函数。本实验中使用双层神经网络模型（一层隐藏层，一层输出层），激活函数为 Sigmoid 函数 $$\\operatorname{Sigmoid}\\left(z\\right)=\\frac{1}{1 + \\exp\\left(-z\\right)}，$$ 损失函数为均方误差 $$E_k=\\frac{1}{2}\\sum\\limits_{j=1}^{l}{\\left(\\hat{y}_j^k-y_j^k\\right)^2}。$$ 本实验使用鸢尾花数据集和癌症数据集对模型进行测试。\n",
    "\n",
    "鸢尾花数据集包含 150 个样本，本实验中将其随机分成 120 个训练样本和 30 个测试样本。每个样本有 4 个特征。有 3 个分类标签（编号为 0，1，2）。对鸢尾花数据集进行分类时选取隐藏层节点数 `q` 为 12。鸢尾花数据集的\n",
    "\n",
    "癌症数据集包含 569 个样本，本实验中将其随机分为 450 个训练样本和 119 个测试样本。每个样本有 30 个特征。有 2 个分类标签（编号为 0，1）。对癌症数据集进行分类时选取隐藏层节点数 `q` 为 200。"
   ]
  },
  {
   "cell_type": "markdown",
   "id": "17bdc18b-7389-4754-b3d8-2482dcd4da10",
   "metadata": {},
   "source": [
    "# 引入相关的库"
   ]
  },
  {
   "cell_type": "code",
   "execution_count": 1,
   "id": "7529f969-a4e2-4b95-b3aa-760fc625d446",
   "metadata": {},
   "outputs": [],
   "source": [
    "import numpy as np\n",
    "import os"
   ]
  },
  {
   "cell_type": "markdown",
   "id": "093513cb-6e0a-4327-a0fc-74ba357f5216",
   "metadata": {},
   "source": [
    "# 加载数据集及数据预处理"
   ]
  },
  {
   "cell_type": "code",
   "execution_count": 2,
   "id": "f9161291-a746-436c-8c42-e004d154d459",
   "metadata": {},
   "outputs": [],
   "source": [
    "def normalization(\n",
    "    X: np.matrix\n",
    ") -> np.matrix:\n",
    "    \"\"\"\n",
    "    将输入数据标准化。\n",
    "    input:\n",
    "        X: 输入数据 shape(m, d)\n",
    "    output:\n",
    "        标准化数据 shape(m, d)\n",
    "    \"\"\"\n",
    "    m = X.shape[0]\n",
    "    d = X.shape[1]\n",
    "    mean = np.mean(X, axis=0)\n",
    "    std = np.std(X, axis=0)\n",
    "    return np.matrix(data=[[\n",
    "        (X[k, i] - mean[0, i]) / std[0, i]\n",
    "        for i in range(d)]\n",
    "        for k in range(m)],\n",
    "        dtype=np.float64)\n",
    "\n",
    "\n",
    "def make_one_hot(\n",
    "    Y: np.matrix\n",
    ") -> np.matrix:\n",
    "    \"\"\"\n",
    "    将标签值转化为独热码。\n",
    "    input:\n",
    "        Y: 标签值 shape(m, 1)\n",
    "    output:\n",
    "        one-hot: 独热码 shape(m, l)\n",
    "    \"\"\"\n",
    "    return np.matrix(data=[\n",
    "        np.eye(1, Y.max() + 1, y[0, 0], dtype=np.float64)[0, :]\n",
    "        for y in Y],\n",
    "        dtype=np.float64)\n",
    "\n",
    "\n",
    "def load_data(\n",
    "    file: str,\n",
    "    training_number: int,\n",
    "    sep: str = ','\n",
    ") -> tuple:\n",
    "    \"\"\"\n",
    "    从文件中加载数据。要求数据文件每行包含一个样例且每行最后一个数据为样例标签。\n",
    "    input:\n",
    "        file: 数据文件路径。\n",
    "        training_number: 训练样本数。\n",
    "        sep: 文件中每个特征的分隔符。\n",
    "    output:\n",
    "        X_training: 训练样本。\n",
    "        Y_training: 训练样本标签。\n",
    "        X_test: 测试样本。\n",
    "        Y_test: 测试样本标签。\n",
    "    \"\"\"\n",
    "    with open(file=file, mode='r') as f:\n",
    "        data = np.matrix(data=[[\n",
    "            np.float64(feature)\n",
    "            for feature in sample.strip().split(sep=sep)]\n",
    "            for sample in f.readlines()],\n",
    "            dtype=np.float64)\n",
    "\n",
    "    X = data[:, :-1]\n",
    "    Y = np.matrix(data=[[int(y)] for y in data[:, -1]], dtype=np.int32)\n",
    "\n",
    "    X = normalization(X=X)\n",
    "    Y = make_one_hot(Y=Y)\n",
    "\n",
    "    X_training = X[:training_number, :]\n",
    "    Y_training = Y[:training_number, :]\n",
    "    X_test = X[training_number:, :]\n",
    "    Y_test = Y[training_number:, :]\n",
    "\n",
    "    return X_training, Y_training, X_test, Y_test"
   ]
  },
  {
   "cell_type": "markdown",
   "id": "99a8bd06-4d9e-4b58-9a17-3784fe8fe546",
   "metadata": {},
   "source": [
    "## 鸢尾花数据集"
   ]
  },
  {
   "cell_type": "code",
   "execution_count": 3,
   "id": "e2f0adaf-1d38-448f-a4a5-fbf6d06199a2",
   "metadata": {},
   "outputs": [],
   "source": [
    "iris_X_training, iris_Y_training, iris_X_test, iris_Y_test = load_data(\n",
    "    file=os.path.join('dataset', 'iris.txt'),\n",
    "    training_number=120)"
   ]
  },
  {
   "cell_type": "markdown",
   "id": "cf24f538-62e4-4d29-8b23-1dcfe1290700",
   "metadata": {},
   "source": [
    "## 癌症数据集"
   ]
  },
  {
   "cell_type": "code",
   "execution_count": 4,
   "id": "eca83f87-84b0-46d8-950b-17cf3cbb0198",
   "metadata": {},
   "outputs": [],
   "source": [
    "cancer_X_training, cancer_Y_training, cancer_X_test, cancer_Y_test = load_data(\n",
    "    file=os.path.join('dataset', 'cancer.txt'),\n",
    "    training_number=450,\n",
    "    sep='\\t')"
   ]
  },
  {
   "cell_type": "markdown",
   "id": "0dcedf85-0380-44a0-9523-a1be29548784",
   "metadata": {},
   "source": [
    "# 加载参数\n",
    "可以从文件中加载参数，也可以随机初始化参数。\n",
    "本实验中在鸢尾花数据集和癌症数据集中分别采用两种方法。"
   ]
  },
  {
   "cell_type": "code",
   "execution_count": 5,
   "id": "1303429c-f9c2-40ae-80ac-5a01697eb2d4",
   "metadata": {},
   "outputs": [],
   "source": [
    "def load_layer(\n",
    "    file: str,\n",
    "    sep: str = ','\n",
    ") -> tuple:\n",
    "    \"\"\"\n",
    "    从文件中加载某一层网络的参数。\n",
    "    input:\n",
    "        file: 保存参数的文件路径。\n",
    "        sep: 参数之间的分隔符。\n",
    "    output:\n",
    "        weights: 权重。\n",
    "        bias: 阈值。\n",
    "    \"\"\"\n",
    "    with open(file=file, mode='r') as f:\n",
    "        parameters = np.matrix(data=[[\n",
    "            np.float64(parameter)\n",
    "            for parameter in classifier.strip().split(sep=sep)]\n",
    "            for classifier in f.readlines()])\n",
    "    weights = parameters[:, :-1]\n",
    "    bias = parameters[:, -1]\n",
    "\n",
    "    return weights, bias"
   ]
  },
  {
   "cell_type": "markdown",
   "id": "90794494-0d32-462e-b276-0564e7711cc2",
   "metadata": {},
   "source": [
    "## 加载鸢尾花数据集的参数"
   ]
  },
  {
   "cell_type": "code",
   "execution_count": 6,
   "id": "9586a179-5ada-4459-beb1-d6749cc59a8c",
   "metadata": {},
   "outputs": [],
   "source": [
    "iris_hidden_weights, iris_hidden_bias = load_layer(\n",
    "    file=os.path.join('parameters', 'iris_hidden_parameters.txt'))\n",
    "iris_output_weights, iris_output_bias = load_layer(\n",
    "    file=os.path.join('parameters', 'iris_output_parameters.txt'))"
   ]
  },
  {
   "cell_type": "markdown",
   "id": "b4fa6430-fe84-4f90-8071-3e663b545ea2",
   "metadata": {},
   "source": [
    "## 加载癌症数据集的参数"
   ]
  },
  {
   "cell_type": "code",
   "execution_count": 7,
   "id": "a9f29f79-c6d6-4e9f-98c4-0a441fbff34e",
   "metadata": {},
   "outputs": [],
   "source": [
    "cancer_hidden_weights, cancer_hidden_bias = np.random.rand(\n",
    "    200, 30), np.random.rand(200, 1)\n",
    "cancer_output_weights, cancer_output_bias = np.random.rand(\n",
    "    2, 200), np.random.rand(2, 1)"
   ]
  },
  {
   "cell_type": "markdown",
   "id": "fdd0ef8e-cf3b-4011-b12c-8476f8a31b95",
   "metadata": {},
   "source": [
    "# BP 算法实现"
   ]
  },
  {
   "cell_type": "code",
   "execution_count": 8,
   "id": "f244bf22-cdc5-4585-bd59-6a99042af582",
   "metadata": {},
   "outputs": [],
   "source": [
    "def sigmoid(\n",
    "    z: np.matrix\n",
    ") -> np.matrix:\n",
    "    \"\"\"\n",
    "    Sigmoid(z) = 1 / (1 + exp(-z))。\n",
    "    \"\"\"\n",
    "    return np.float64(1.) / (np.float64(1.) + np.exp(-z))\n",
    "\n",
    "\n",
    "def back_propagation(\n",
    "    X: np.matrix,\n",
    "    Y: np.matrix,\n",
    "    hidden_weights: np.matrix,\n",
    "    hidden_bias: np.matrix,\n",
    "    output_weights: np.matrix,\n",
    "    output_bias: np.matrix,\n",
    "    lr: np.float64\n",
    ") -> tuple:\n",
    "    \"\"\"\n",
    "    反向传播更新参数。\n",
    "    input:\n",
    "        X: 输入样本 shape(m, d)\n",
    "        Y: 样本标签 shape(m, l)\n",
    "        hidden_weights: 隐藏层权重 shape(q, d)\n",
    "        hidden_bias: 隐藏层阈值 shape(q, 1)\n",
    "        output_weights: 输出层权重 shape(l, q)\n",
    "        output_bias: 输出层阈值 shape(l, 1)\n",
    "        lr: 学习率\n",
    "    \"\"\"\n",
    "    m = X.shape[0]\n",
    "    d = X.shape[1]\n",
    "    q = hidden_weights.shape[0]\n",
    "    l = output_weights.shape[0]\n",
    "\n",
    "    alpha = np.zeros(shape=(q, 1), dtype=np.float64)\n",
    "    b = np.zeros(shape=(q, 1), dtype=np.float64)\n",
    "    beta = np.zeros(shape=(l, 1), dtype=np.float64)\n",
    "    y_hat = np.zeros(shape=(l, 1), dtype=np.float64)\n",
    "\n",
    "    g = np.zeros(shape=(l, 1), dtype=np.float64)\n",
    "    e = np.zeros(shape=(q, 1), dtype=np.float64)\n",
    "\n",
    "    d_w = np.zeros(shape=(l, q), dtype=np.float64)\n",
    "    d_theta = np.zeros(shape=(l, 1), dtype=np.float64)\n",
    "    d_v = np.zeros(shape=(q, d), dtype=np.float64)\n",
    "    d_gamma = np.zeros(shape=(q, 1), dtype=np.float64)\n",
    "\n",
    "    for k in range(m):\n",
    "        for h in range(q):\n",
    "            sum_tmp = 0\n",
    "            for i in range(d):\n",
    "                sum_tmp += hidden_weights[h, i] * X[k, i]\n",
    "            alpha[h, 0] = sum_tmp\n",
    "\n",
    "        b = sigmoid(alpha - hidden_bias)\n",
    "\n",
    "        for j in range(l):\n",
    "            sum_tmp = 0\n",
    "            for h in range(q):\n",
    "                sum_tmp += output_weights[j, h] * b[h, 0]\n",
    "            beta[j, 0] = sum_tmp\n",
    "\n",
    "        y_hat = sigmoid(beta - output_bias)\n",
    "\n",
    "        for j in range(l):\n",
    "            g[j] = y_hat[j, 0] * (1 - y_hat[j, 0]) * (Y[k, j] - y_hat[j, 0])\n",
    "\n",
    "        for h in range(q):\n",
    "            sum_tmp = 0\n",
    "            for j in range(l):\n",
    "                sum_tmp += output_weights[j, h] * g[j, 0]\n",
    "            e[h] = b[h, 0] * (1 - b[h, 0]) * sum_tmp\n",
    "\n",
    "        for h in range(q):\n",
    "            for j in range(l):\n",
    "                d_w[j, h] = lr * g[j, 0] * b[h, 0]\n",
    "\n",
    "        for j in range(l):\n",
    "            d_theta[j, 0] = -lr * g[j, 0]\n",
    "\n",
    "        for i in range(d):\n",
    "            for h in range(q):\n",
    "                d_v[h, i] = lr * e[h, 0] * X[k, i]\n",
    "\n",
    "        for h in range(q):\n",
    "            d_gamma[h, 0] = -lr * e[h, 0]\n",
    "\n",
    "        output_weights += d_w\n",
    "        output_bias += d_theta\n",
    "        hidden_weights += d_v\n",
    "        hidden_bias += d_gamma"
   ]
  },
  {
   "cell_type": "markdown",
   "id": "10cdddc5-9d27-44ca-8e30-07cff02b41bb",
   "metadata": {},
   "source": [
    "# 训练模型\n",
    "本步骤耗时较长（约 1 分 20 秒），请耐心等待。"
   ]
  },
  {
   "cell_type": "code",
   "execution_count": 9,
   "id": "bf37c49d-fe8c-4a8d-840e-be6c75de65d4",
   "metadata": {},
   "outputs": [],
   "source": [
    "epoch = 100\n",
    "for i in range(epoch):\n",
    "    back_propagation(\n",
    "        X=iris_X_training,\n",
    "        Y=iris_Y_training,\n",
    "        hidden_weights=iris_hidden_weights,\n",
    "        hidden_bias=iris_hidden_bias,\n",
    "        output_weights=iris_output_weights,\n",
    "        output_bias=iris_output_bias,\n",
    "        lr=0.05)\n",
    "\n",
    "epoch = 10\n",
    "for i in range(epoch):\n",
    "    back_propagation(\n",
    "        X=cancer_X_training,\n",
    "        Y=cancer_Y_training,\n",
    "        hidden_weights=cancer_hidden_weights,\n",
    "        hidden_bias=cancer_hidden_bias,\n",
    "        output_weights=cancer_output_weights,\n",
    "        output_bias=cancer_output_bias,\n",
    "        lr=0.01)"
   ]
  },
  {
   "cell_type": "markdown",
   "id": "2ce981a8-6ddd-44cc-b190-05afa2a87868",
   "metadata": {},
   "source": [
    "# 预测结果"
   ]
  },
  {
   "cell_type": "code",
   "execution_count": 10,
   "id": "c37aa874-f81b-4c59-a983-d77accd30ebe",
   "metadata": {},
   "outputs": [],
   "source": [
    "def predict(\n",
    "    X: np.matrix,\n",
    "    hidden_weights: np.matrix,\n",
    "    hidden_bias: np.matrix,\n",
    "    output_weights: np.matrix,\n",
    "    output_bias: np.matrix\n",
    ") -> np.matrix:\n",
    "    \"\"\"\n",
    "    根据权重和样本特征预测标签。\n",
    "    input:\n",
    "        X: 输入样本 shape(m, d)\n",
    "        hidden_weights: 隐藏层权重 shape(q, d)\n",
    "        hidden_bias: 隐藏层阈值 shape(q, 1)\n",
    "        output_weights: 输出层权重 shape(l, q)\n",
    "        output_bias: 输出层阈值 shape(l, 1)\n",
    "    output:\n",
    "        prediction: 标签的预测值 shape(m, l)\n",
    "    \"\"\"\n",
    "    m = X.shape[0]\n",
    "    d = X.shape[1]\n",
    "    q = hidden_weights.shape[0]\n",
    "    l = output_weights.shape[0]\n",
    "\n",
    "    alpha = np.zeros(shape=(q, 1), dtype=np.float64)\n",
    "    b = np.zeros(shape=(q, 1), dtype=np.float64)\n",
    "    beta = np.zeros(shape=(l, 1), dtype=np.float64)\n",
    "    y_hat = np.zeros(shape=(l, 1), dtype=np.float64)\n",
    "\n",
    "    prediction = np.zeros(shape=(m, l), dtype=np.float64)\n",
    "\n",
    "    for k in range(m):\n",
    "        for h in range(q):\n",
    "            sum_tmp = 0\n",
    "            for i in range(d):\n",
    "                sum_tmp += hidden_weights[h, i] * X[k, i]\n",
    "            alpha[h, 0] = sum_tmp\n",
    "\n",
    "        b = sigmoid(alpha - hidden_bias)\n",
    "\n",
    "        for j in range(l):\n",
    "            sum_tmp = 0\n",
    "            for h in range(q):\n",
    "                sum_tmp += output_weights[j, h] * b[h, 0]\n",
    "            beta[j, 0] = sum_tmp\n",
    "\n",
    "        y_hat = sigmoid(beta - output_bias)\n",
    "\n",
    "        for j in range(l):\n",
    "            prediction[k, j] = y_hat[j, 0]\n",
    "\n",
    "    return prediction"
   ]
  },
  {
   "cell_type": "markdown",
   "id": "8bf8198b-4d58-406f-858d-ee73fd745715",
   "metadata": {},
   "source": [
    "## 鸢尾花预测"
   ]
  },
  {
   "cell_type": "code",
   "execution_count": 11,
   "id": "2c85e014-2acd-4dea-b6d6-0b2f9139c381",
   "metadata": {},
   "outputs": [
    {
     "name": "stdout",
     "output_type": "stream",
     "text": [
      "iris prediction:\n",
      "[2 0 2 1 1 0 1 0 0 2 0 1 2 1 1 1 0 1 2 1 0 0 0 1 0 2 1 0 2 0]\n",
      "\n",
      "iris Y test\n",
      "[[2 0 2 1 1 0 1 0 0 2 0 1 2 1 1 1 0 1 2 1 0 0 0 1 0 2 1 0 2 0]]\n",
      "\n"
     ]
    }
   ],
   "source": [
    "iris_prediction = predict(\n",
    "    X=iris_X_test,\n",
    "    hidden_weights=iris_hidden_weights,\n",
    "    hidden_bias=iris_hidden_bias,\n",
    "    output_weights=iris_output_weights,\n",
    "    output_bias=iris_output_bias)\n",
    "\n",
    "print('iris prediction:\\n{}\\n'.format(np.argmax(iris_prediction, axis=1)))\n",
    "print('iris Y test\\n{}\\n'.format(np.argmax(iris_Y_test, axis=1).T))"
   ]
  },
  {
   "cell_type": "markdown",
   "id": "cfaa4d1c-6b03-4df9-802d-cd228525c99e",
   "metadata": {},
   "source": [
    "## 癌症预测"
   ]
  },
  {
   "cell_type": "code",
   "execution_count": 12,
   "id": "c8a9436a-e3ce-4e35-b2d0-a425c4d31222",
   "metadata": {},
   "outputs": [
    {
     "name": "stdout",
     "output_type": "stream",
     "text": [
      "cancer prediction:\n",
      "[1 1 1 1 1 1 1 1 1 1 1 1 0 0 0 0 0 0 1 1 0 1 1 1 1 1 1 1 1 0 0 1 1 1 0 1 1\n",
      " 0 0 1 1 1 1 1 1 1 1 1 0 1 1 1 1 1 0 1 0 1 1 1 1 0 1 1 1 1 1 0 0 1 0 1 0 0\n",
      " 0 1 1 1 0 1 1 0 1 1 1 0 0 1 1 0 0 1 1 1 1 1 1 0 1 1 1 1 0 1 0 0 0 1 0 1 0\n",
      " 1 1 1 1 1 1 1 1]\n",
      "\n",
      "cancer Y test:\n",
      "[[1 1 1 1 1 1 1 1 1 1 1 1 0 0 0 0 0 0 1 1 0 1 1 1 1 1 1 1 1 0 0 1 1 1 1 1\n",
      "  1 0 1 1 1 1 1 1 1 1 1 1 0 1 1 1 1 1 1 1 0 1 0 1 1 0 1 1 1 1 1 0 0 1 0 1\n",
      "  0 1 1 1 1 1 0 1 1 0 1 0 1 0 0 1 1 1 0 1 1 1 1 1 1 1 1 1 1 1 0 1 0 0 1 1\n",
      "  1 1 1 1 1 1 1 1 1 1 1]]\n",
      "\n"
     ]
    }
   ],
   "source": [
    "cancer_prediction = predict(\n",
    "    X=cancer_X_test,\n",
    "    hidden_weights=cancer_hidden_weights,\n",
    "    hidden_bias=cancer_hidden_bias,\n",
    "    output_weights=cancer_output_weights,\n",
    "    output_bias=cancer_output_bias)\n",
    "\n",
    "print('cancer prediction:\\n{}\\n'.format(np.argmax(cancer_prediction, axis=1)))\n",
    "print('cancer Y test:\\n{}\\n'.format(np.argmax(cancer_Y_test, axis=1).T))"
   ]
  },
  {
   "cell_type": "markdown",
   "id": "c90caea2-81e7-4e2f-a456-d8f4c6257d9d",
   "metadata": {},
   "source": [
    "# 测试模型"
   ]
  },
  {
   "cell_type": "code",
   "execution_count": 13,
   "id": "3babbdc0-5b8d-4c3e-aeca-a65c711285bc",
   "metadata": {},
   "outputs": [],
   "source": [
    "def MSE(\n",
    "    prediction: np.matrix,\n",
    "    Y: np.matrix\n",
    ") -> np.float64:\n",
    "    \"\"\"\n",
    "    计算预测值与真实值的均方误差。\n",
    "    input:\n",
    "        prediction: 预测值 shape(m, l)\n",
    "        Y: 真实值 shape(m, l)\n",
    "    output:\n",
    "        均方误差值。\n",
    "    \"\"\"\n",
    "    m = Y.shape[0]\n",
    "    l = Y.shape[1]\n",
    "    return np.mean(np.matrix(data=[0.5 * np.sum([\n",
    "        (prediction[k, j] - Y[k, j]) ** 2\n",
    "        for j in range(l)])\n",
    "        for k in range(m)], dtype=np.float64))\n",
    "\n",
    "\n",
    "def test(\n",
    "    prediction: np.matrix,\n",
    "    Y: np.matrix\n",
    ") -> None:\n",
    "    \"\"\"\n",
    "    根据给定的测试集和模型参数、测试模型的正确率。\n",
    "    input:\n",
    "        prediction: 标签的预测值 shape(1, m)\n",
    "        Y: 标签的实际值 shape(m, 1)\n",
    "    \"\"\"\n",
    "    m = prediction.shape[0]\n",
    "    print(\"MSE: {}\".format(\n",
    "        MSE(prediction=prediction, Y=Y)))\n",
    "\n",
    "    right = 0\n",
    "    error = 0\n",
    "    for k in range(m):\n",
    "        if np.argmax(prediction[k, :]) == np.argmax(Y[k, :]):\n",
    "            right += 1\n",
    "        else:\n",
    "            error += 1\n",
    "    print(\"Right: {}, error: {}, right rate: {}\".format(\n",
    "        right, error, 1 if m == 0 else right / (right + error)))"
   ]
  },
  {
   "cell_type": "markdown",
   "id": "ad1297c6-c7b6-425a-b71a-68918ba72832",
   "metadata": {},
   "source": [
    "## 鸢尾花测试"
   ]
  },
  {
   "cell_type": "code",
   "execution_count": 14,
   "id": "ef1c3ecf-a68b-4b5f-b88c-796e8a3e59e2",
   "metadata": {},
   "outputs": [
    {
     "name": "stdout",
     "output_type": "stream",
     "text": [
      "MSE: 0.008520959533903544\n",
      "Right: 30, error: 0, right rate: 1.0\n"
     ]
    }
   ],
   "source": [
    "test(\n",
    "    prediction=iris_prediction,\n",
    "    Y=iris_Y_test)"
   ]
  },
  {
   "cell_type": "markdown",
   "id": "36707356-cbd3-4fb5-925d-a4a9b4bbfcf9",
   "metadata": {},
   "source": [
    "## 癌症测试"
   ]
  },
  {
   "cell_type": "code",
   "execution_count": 15,
   "id": "775fe3ef-ab4a-4201-88a8-54bf266b768c",
   "metadata": {},
   "outputs": [
    {
     "name": "stdout",
     "output_type": "stream",
     "text": [
      "MSE: 0.2651738723428339\n",
      "Right: 107, error: 12, right rate: 0.8991596638655462\n"
     ]
    }
   ],
   "source": [
    "test(\n",
    "    prediction=cancer_prediction,\n",
    "    Y=cancer_Y_test)"
   ]
  },
  {
   "cell_type": "markdown",
   "id": "de0db3ab-bc02-4104-af06-aa46c305af5d",
   "metadata": {},
   "source": [
    "# 保存参数"
   ]
  },
  {
   "cell_type": "code",
   "execution_count": 16,
   "id": "d8f27583-8ba6-4568-b410-33b874440304",
   "metadata": {},
   "outputs": [],
   "source": [
    "def save_layer(\n",
    "    file: str,\n",
    "    weights: np.matrix,\n",
    "    bias: np.matrix,\n",
    "    sep: str = ','\n",
    ") -> None:\n",
    "    \"\"\"\n",
    "    保存某一层网络的参数。\n",
    "    input:\n",
    "        file: 保存参数的文件路径。\n",
    "        weights: 权重。\n",
    "        bias: 阈值。\n",
    "        sep: 参数之间的分隔符。\n",
    "    \"\"\"\n",
    "    with open(file=file, mode='w') as f:\n",
    "        line, row = weights.shape\n",
    "        for i in range(line):\n",
    "            for j in range(row):\n",
    "                f.write('{}'.format(weights[i, j]) + sep)\n",
    "            f.write('{}\\n'.format(bias[i, 0]))"
   ]
  },
  {
   "cell_type": "markdown",
   "id": "170b746c-20b1-4691-9827-4c8b5d87e5d8",
   "metadata": {},
   "source": [
    "## 保存鸢尾花模型参数"
   ]
  },
  {
   "cell_type": "code",
   "execution_count": 17,
   "id": "bace3874-c741-44da-b151-253d03d3cb4d",
   "metadata": {},
   "outputs": [],
   "source": [
    "save_layer(\n",
    "    file=os.path.join('parameters', 'iris_hidden_parameters.txt'),\n",
    "    weights=iris_hidden_weights,\n",
    "    bias=iris_hidden_bias)\n",
    "\n",
    "save_layer(\n",
    "    file=os.path.join('parameters', 'iris_output_parameters.txt'),\n",
    "    weights=iris_output_weights,\n",
    "    bias=iris_output_bias)"
   ]
  },
  {
   "cell_type": "markdown",
   "id": "7eea57b7-6ce3-431a-9a0c-6b1796f49427",
   "metadata": {},
   "source": [
    "## 保存癌症数据集参数"
   ]
  },
  {
   "cell_type": "code",
   "execution_count": 18,
   "id": "e3a90e63-e47a-4b58-a192-af84d74d6f6c",
   "metadata": {},
   "outputs": [],
   "source": [
    "save_layer(\n",
    "    file=os.path.join('parameters', 'cancer_hidden_parameters.txt'),\n",
    "    weights=cancer_hidden_weights,\n",
    "    bias=cancer_hidden_bias)\n",
    "\n",
    "save_layer(\n",
    "    file=os.path.join('parameters', 'cancer_output_parameters.txt'),\n",
    "    weights=cancer_output_weights,\n",
    "    bias=cancer_output_bias)"
   ]
  }
 ],
 "metadata": {
  "kernelspec": {
   "display_name": "Python 3",
   "language": "python",
   "name": "python3"
  },
  "language_info": {
   "codemirror_mode": {
    "name": "ipython",
    "version": 3
   },
   "file_extension": ".py",
   "mimetype": "text/x-python",
   "name": "python",
   "nbconvert_exporter": "python",
   "pygments_lexer": "ipython3",
   "version": "3.10.6"
  }
 },
 "nbformat": 4,
 "nbformat_minor": 5
}
